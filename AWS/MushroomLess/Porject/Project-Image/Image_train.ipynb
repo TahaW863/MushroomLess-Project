{
  "nbformat": 4,
  "nbformat_minor": 0,
  "metadata": {
    "kernelspec": {
      "display_name": "conda_mxnet_p36",
      "language": "python",
      "name": "conda_mxnet_p36"
    },
    "language_info": {
      "codemirror_mode": {
        "name": "ipython",
        "version": 3
      },
      "file_extension": ".py",
      "mimetype": "text/x-python",
      "name": "python",
      "nbconvert_exporter": "python",
      "pygments_lexer": "ipython3",
      "version": "3.6.10"
    },
    "colab": {
      "name": "Image-train.ipynb",
      "provenance": [],
      "collapsed_sections": []
    }
  },
  "cells": [
    {
      "cell_type": "markdown",
      "metadata": {
        "id": "N4ZqYMIB8RpT",
        "colab_type": "text"
      },
      "source": [
        "#importing and getting the docker Image"
      ]
    },
    {
      "cell_type": "code",
      "metadata": {
        "id": "_-dutivw7O0h",
        "colab_type": "code",
        "colab": {}
      },
      "source": [
        "import sagemaker\n",
        "from sagemaker import get_execution_role\n",
        "from sagemaker.amazon.amazon_estimator import get_image_uri\n",
        "import json\n",
        "import numpy as np\n",
        "import os\n",
        "import time\n",
        "\n",
        "role = get_execution_role()\n",
        "sess = sagemaker.Session()\n",
        "\n",
        "training_image = get_image_uri(sess.boto_region_name, 'image-classification', repo_version=\"latest\")"
      ],
      "execution_count": null,
      "outputs": []
    },
    {
      "cell_type": "markdown",
      "metadata": {
        "id": "N5FqDew28d06",
        "colab_type": "text"
      },
      "source": [
        "#Getting the im2rec.py to convert our images to RecordIO files"
      ]
    },
    {
      "cell_type": "code",
      "metadata": {
        "id": "fy-OJCF37O0m",
        "colab_type": "code",
        "colab": {}
      },
      "source": [
        "%%bash\n",
        "wget https://raw.githubusercontent.com/apache/incubator-mxnet/master/tools/im2rec.py\n",
        "chmod +x im2rec.py"
      ],
      "execution_count": null,
      "outputs": []
    },
    {
      "cell_type": "markdown",
      "metadata": {
        "id": "7VRLQTYe8qNl",
        "colab_type": "text"
      },
      "source": [
        "Creating .lst for our training and testing images"
      ]
    },
    {
      "cell_type": "code",
      "metadata": {
        "id": "qNvaXTfc7O0r",
        "colab_type": "code",
        "colab": {}
      },
      "source": [
        "%%bash\n",
        "python im2rec.py --list --recursive  --test-ratio 0.3 --train-ratio 0.7 images AWS/MushroomLess/Data/Images/DATASet-Collected-by-MushroomLess/"
      ],
      "execution_count": null,
      "outputs": []
    },
    {
      "cell_type": "markdown",
      "metadata": {
        "id": "vbSGuSwt8zTm",
        "colab_type": "text"
      },
      "source": [
        "#Generating the .Rec Files and meanwhile resizing them to \"224\" "
      ]
    },
    {
      "cell_type": "code",
      "metadata": {
        "id": "ulfYT_F27O0v",
        "colab_type": "code",
        "colab": {}
      },
      "source": [
        "%%bash\n",
        "python im2rec.py --num-thread=4 --resize 224 images_train.lst AWS/MushroomLess/Data/Images/DATASet-Collected-by-MushroomLess/\n",
        "python im2rec.py --num-thread=4 --resize 224 images_test.lst AWS/MushroomLess/Data/Images/DATASet-Collected-by-MushroomLess/"
      ],
      "execution_count": null,
      "outputs": []
    },
    {
      "cell_type": "markdown",
      "metadata": {
        "id": "HuuC04ZU9GVo",
        "colab_type": "text"
      },
      "source": [
        "# Upload our train and test RecordIO files to S3 in the bucket that our sagemaker session is using"
      ]
    },
    {
      "cell_type": "code",
      "metadata": {
        "id": "vae0FNrD7O03",
        "colab_type": "code",
        "colab": {}
      },
      "source": [
        "bucket = sess.default_bucket()\n",
        "s3train_path = 's3://{}/{}/train/'.format(MES3, MyFolder)\n",
        "s3validation_path = 's3://{}/{}/validation/'.format(MES3, MyFolder)\n",
        "# Uploading the rec files to the train and validation channels\n",
        "!aws s3 cp /tmp/images_train.rec $s3train_path\n",
        "!aws s3 cp /tmp/images_test.rec $s3validation_path"
      ],
      "execution_count": null,
      "outputs": []
    },
    {
      "cell_type": "markdown",
      "metadata": {
        "id": "gODkZNuM9Nhm",
        "colab_type": "text"
      },
      "source": [
        "#Giving the S3Data_path for our ML - Channels"
      ]
    },
    {
      "cell_type": "code",
      "metadata": {
        "id": "NaAhP1Da7O06",
        "colab_type": "code",
        "colab": {}
      },
      "source": [
        "train_data = sagemaker.session.s3_input(\n",
        "    s3train_path, \n",
        "    distribution='FullyReplicated', \n",
        "    content_type='application/x-recordio', \n",
        "    s3_data_type='S3Prefix'\n",
        ")\n",
        "\n",
        "validation_data = sagemaker.session.s3_input(\n",
        "    s3validation_path, \n",
        "    distribution='FullyReplicated', \n",
        "    content_type='application/x-recordio', \n",
        "    s3_data_type='S3Prefix'\n",
        ")\n",
        "\n",
        "data_channels = {'train': train_data, 'validation': validation_data}"
      ],
      "execution_count": null,
      "outputs": []
    },
    {
      "cell_type": "markdown",
      "metadata": {
        "id": "F5gXFauu9d3r",
        "colab_type": "text"
      },
      "source": [
        "#Specifying the Output path for model.\n",
        "and giving the Image-Docker\n",
        "the needed configuration "
      ]
    },
    {
      "cell_type": "code",
      "metadata": {
        "id": "-BNEUVI27O0-",
        "colab_type": "code",
        "colab": {}
      },
      "source": [
        "output_path='s3://{}/{}/output/'.format(MES3, MyFolder)\n",
        "image_classifier = sagemaker.estimator.Estimator(\n",
        "    training_image,\n",
        "    role, \n",
        "    train_instance_count=1, \n",
        "    train_instance_type='ml.p3.16xlarge',\n",
        "    output_path=output_path,\n",
        "    sagemaker_session=sess\n",
        ")"
      ],
      "execution_count": null,
      "outputs": []
    },
    {
      "cell_type": "markdown",
      "metadata": {
        "id": "tE2EUkJr-G3r",
        "colab_type": "text"
      },
      "source": [
        "#Specifying the hyperparameters for Our Model."
      ]
    },
    {
      "cell_type": "code",
      "metadata": {
        "id": "kWCLcR5S7O1D",
        "colab_type": "code",
        "colab": {}
      },
      "source": [
        "#from train.lst\n",
        "num_training_samples=\n",
        "#from  # .lst\n",
        "num_classes=\n",
        "base_hyperparameters=dict(\n",
        "    use_pretrained_model=1,\n",
        "    image_shape='3,224,224',\n",
        "    num_classes=num_classes,\n",
        "    num_training_samples=num_training_samples,\n",
        ")\n",
        "hyperparameters={\n",
        "    **base_hyperparameters, \n",
        "    **dict(\n",
        "        learning_rate=0.001,\n",
        "        mini_batch_size=10,\n",
        "    )\n",
        "}\n",
        "image_classifier.set_hyperparameters(**hyperparameters)\n",
        "hyperparameters"
      ],
      "execution_count": null,
      "outputs": []
    },
    {
      "cell_type": "markdown",
      "metadata": {
        "id": "g24IYWYR-USN",
        "colab_type": "text"
      },
      "source": [
        "#Let the training start!"
      ]
    },
    {
      "cell_type": "code",
      "metadata": {
        "id": "MbTpXWKY7O1G",
        "colab_type": "code",
        "colab": {}
      },
      "source": [
        "%%time\n",
        "\n",
        "now = str(int(time.time()))\n",
        "training_job_name = 'IC-' +'MushroomLess-'+ now\n",
        "image_classifier.fit(inputs=data_channels, job_name=training_job_name, logs=True)\n",
        "job = image_classifier.latest_training_job"
      ],
      "execution_count": null,
      "outputs": []
    },
    {
      "cell_type": "markdown",
      "metadata": {
        "id": "Hn04BAQD_EOo",
        "colab_type": "text"
      },
      "source": [
        "#Deploying the model to the Cloud"
      ]
    },
    {
      "cell_type": "code",
      "metadata": {
        "id": "VJEx8lVO_E14",
        "colab_type": "code",
        "colab": {}
      },
      "source": [
        "%%time\n",
        "deployed_endpoint = image_classifier.deploy(\n",
        "    initial_instance_count = 1,\n",
        "    instance_type = 'ml.t2.large'\n",
        ")"
      ],
      "execution_count": null,
      "outputs": []
    },
    {
      "cell_type": "code",
      "metadata": {
        "id": "-lzHIr-p_ZEB",
        "colab_type": "code",
        "colab": {}
      },
      "source": [
        "deployed_endpoint.endpoint"
      ],
      "execution_count": null,
      "outputs": []
    },
    {
      "cell_type": "markdown",
      "metadata": {
        "id": "0YPiHinG-kAX",
        "colab_type": "text"
      },
      "source": [
        "#Testing The Model"
      ]
    },
    {
      "cell_type": "code",
      "metadata": {
        "id": "snK0YmeB7O1M",
        "colab_type": "code",
        "colab": {}
      },
      "source": [
        "import json\n",
        "import numpy as np\n",
        "import os\n",
        "\n",
        "def classify_deployed(image_file, classes):\n",
        "    payload = None\n",
        "    with open(image_file, 'rb') as f:\n",
        "        payload = f.read()\n",
        "        payload = bytearray(payload)\n",
        "        \n",
        "    deployed_endpoint.content_type = 'application/x-image'\n",
        "    result = json.loads(deployed_endpoint.predict(payload))\n",
        "    best_prob_index = np.argmax(result)\n",
        "    return (classes[best_prob_index], result[best_prob_index])"
      ],
      "execution_count": null,
      "outputs": []
    }
  ]
}